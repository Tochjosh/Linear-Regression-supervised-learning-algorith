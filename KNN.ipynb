{
 "cells":[
  {
   "cell_type":"code",
   "source":[
    "import pandas as pd\n",
    "data = pd.read_csv('iris_data\/iris.csv')\n",
    "data.head(10)"
   ],
   "execution_count":19,
   "outputs":[
    {
     "data":{
      "text\/html":[
       "<div>\n",
       "<style scoped>\n",
       "    .dataframe tbody tr th:only-of-type {\n",
       "        vertical-align: middle;\n",
       "    }\n",
       "\n",
       "    .dataframe tbody tr th {\n",
       "        vertical-align: top;\n",
       "    }\n",
       "\n",
       "    .dataframe thead th {\n",
       "        text-align: right;\n",
       "    }\n",
       "<\/style>\n",
       "<table border=\"1\" class=\"dataframe\">\n",
       "  <thead>\n",
       "    <tr style=\"text-align: right;\">\n",
       "      <th><\/th>\n",
       "      <th>sepal.length<\/th>\n",
       "      <th>sepal.width<\/th>\n",
       "      <th>petal.length<\/th>\n",
       "      <th>petal.width<\/th>\n",
       "      <th>variety<\/th>\n",
       "    <\/tr>\n",
       "  <\/thead>\n",
       "  <tbody>\n",
       "    <tr>\n",
       "      <th>0<\/th>\n",
       "      <td>5.1<\/td>\n",
       "      <td>3.5<\/td>\n",
       "      <td>1.4<\/td>\n",
       "      <td>0.2<\/td>\n",
       "      <td>Setosa<\/td>\n",
       "    <\/tr>\n",
       "    <tr>\n",
       "      <th>1<\/th>\n",
       "      <td>4.9<\/td>\n",
       "      <td>3.0<\/td>\n",
       "      <td>1.4<\/td>\n",
       "      <td>0.2<\/td>\n",
       "      <td>Setosa<\/td>\n",
       "    <\/tr>\n",
       "    <tr>\n",
       "      <th>2<\/th>\n",
       "      <td>4.7<\/td>\n",
       "      <td>3.2<\/td>\n",
       "      <td>1.3<\/td>\n",
       "      <td>0.2<\/td>\n",
       "      <td>Setosa<\/td>\n",
       "    <\/tr>\n",
       "    <tr>\n",
       "      <th>3<\/th>\n",
       "      <td>4.6<\/td>\n",
       "      <td>3.1<\/td>\n",
       "      <td>1.5<\/td>\n",
       "      <td>0.2<\/td>\n",
       "      <td>Setosa<\/td>\n",
       "    <\/tr>\n",
       "    <tr>\n",
       "      <th>4<\/th>\n",
       "      <td>5.0<\/td>\n",
       "      <td>3.6<\/td>\n",
       "      <td>1.4<\/td>\n",
       "      <td>0.2<\/td>\n",
       "      <td>Setosa<\/td>\n",
       "    <\/tr>\n",
       "    <tr>\n",
       "      <th>5<\/th>\n",
       "      <td>5.4<\/td>\n",
       "      <td>3.9<\/td>\n",
       "      <td>1.7<\/td>\n",
       "      <td>0.4<\/td>\n",
       "      <td>Setosa<\/td>\n",
       "    <\/tr>\n",
       "    <tr>\n",
       "      <th>6<\/th>\n",
       "      <td>4.6<\/td>\n",
       "      <td>3.4<\/td>\n",
       "      <td>1.4<\/td>\n",
       "      <td>0.3<\/td>\n",
       "      <td>Setosa<\/td>\n",
       "    <\/tr>\n",
       "    <tr>\n",
       "      <th>7<\/th>\n",
       "      <td>5.0<\/td>\n",
       "      <td>3.4<\/td>\n",
       "      <td>1.5<\/td>\n",
       "      <td>0.2<\/td>\n",
       "      <td>Setosa<\/td>\n",
       "    <\/tr>\n",
       "    <tr>\n",
       "      <th>8<\/th>\n",
       "      <td>4.4<\/td>\n",
       "      <td>2.9<\/td>\n",
       "      <td>1.4<\/td>\n",
       "      <td>0.2<\/td>\n",
       "      <td>Setosa<\/td>\n",
       "    <\/tr>\n",
       "    <tr>\n",
       "      <th>9<\/th>\n",
       "      <td>4.9<\/td>\n",
       "      <td>3.1<\/td>\n",
       "      <td>1.5<\/td>\n",
       "      <td>0.1<\/td>\n",
       "      <td>Setosa<\/td>\n",
       "    <\/tr>\n",
       "  <\/tbody>\n",
       "<\/table>\n",
       "<\/div>"
      ]
     },
     "metadata":{
      
     },
     "output_type":"display_data"
    }
   ],
   "metadata":{
    "datalore":{
     "type":"CODE",
     "hide_input_from_viewers":false,
     "hide_output_from_viewers":false
    }
   }
  },
  {
   "cell_type":"code",
   "source":[
    "data.shape"
   ],
   "execution_count":10,
   "outputs":[
    {
     "data":{
      "text\/plain":[
       "(150, 5)"
      ]
     },
     "metadata":{
      
     },
     "output_type":"display_data"
    }
   ],
   "metadata":{
    "datalore":{
     "type":"CODE",
     "hide_input_from_viewers":false,
     "hide_output_from_viewers":false
    }
   }
  },
  {
   "cell_type":"markdown",
   "source":[
    "### Split the data into training and test set manually"
   ],
   "attachments":{
    
   },
   "metadata":{
    "datalore":{
     "type":"MD",
     "hide_input_from_viewers":false,
     "hide_output_from_viewers":false
    }
   }
  },
  {
   "cell_type":"code",
   "source":[
    "import random\n",
    "import csv\n",
    "\n",
    "def load_datset(filename, split, training_set=[], test_set=[]):\n",
    "    with open(filename, 'r') as csvfile:\n",
    "        lines = csv.reader(csvfile)\n",
    "        dataset = list(lines)\n",
    "        n = len(dataset)\n",
    "        for x in range(n):\n",
    "            if x == 0:\n",
    "                continue\n",
    "            for y in range(4):\n",
    "                dataset[x][y] = float(dataset[x][y])\n",
    "            if random.random() < split:\n",
    "                training_set.append(dataset[x])\n",
    "            else:\n",
    "                test_set.append(dataset[x])"
   ],
   "execution_count":29,
   "outputs":[
    
   ],
   "metadata":{
    "datalore":{
     "type":"CODE",
     "hide_input_from_viewers":false,
     "hide_output_from_viewers":false
    }
   }
  },
  {
   "cell_type":"code",
   "source":[
    "training_set = []\n",
    "test_set = []\n",
    "load_datset('iris_data\/iris.csv', 0.66, training_set, test_set)\n",
    "print(f\"Train {len(training_set)}\")\n",
    "print(f\"Test {len(test_set)}\")"
   ],
   "execution_count":30,
   "outputs":[
    {
     "name":"stdout",
     "text":[
      "Train 94\n",
      "Test 56\n"
     ],
     "output_type":"stream"
    }
   ],
   "metadata":{
    "datalore":{
     "type":"CODE",
     "hide_input_from_viewers":false,
     "hide_output_from_viewers":false
    }
   }
  },
  {
   "cell_type":"markdown",
   "source":[
    "### Implement length calculating function "
   ],
   "attachments":{
    
   },
   "metadata":{
    "datalore":{
     "type":"MD",
     "hide_input_from_viewers":false,
     "hide_output_from_viewers":false
    }
   }
  },
  {
   "cell_type":"code",
   "source":[
    "import math\n",
    "\n",
    "def eucladian_distance(instance1, instance2, lenght):\n",
    "    distance = 0\n",
    "    for x in range(lenght):\n",
    "        distance += pow((instance1[x] - instance2[x]), 2)\n",
    "    return math.sqrt(distance)\n",
    "                        "
   ],
   "execution_count":33,
   "outputs":[
    
   ],
   "metadata":{
    "datalore":{
     "type":"CODE",
     "hide_input_from_viewers":false,
     "hide_output_from_viewers":false
    }
   }
  },
  {
   "cell_type":"markdown",
   "source":[
    "#### An example code is shown below "
   ],
   "attachments":{
    
   },
   "metadata":{
    "datalore":{
     "type":"MD",
     "hide_input_from_viewers":false,
     "hide_output_from_viewers":false
    }
   }
  },
  {
   "cell_type":"code",
   "source":[
    "data1 = [2, 2, 2, 'a']\n",
    "data2 = [4, 4, 4, 'b']\n",
    "dis = eucladian_distance(data1, data2, 3)\n",
    "print(dis)"
   ],
   "execution_count":35,
   "outputs":[
    {
     "name":"stdout",
     "text":[
      "3.4641016151377544\n"
     ],
     "output_type":"stream"
    }
   ],
   "metadata":{
    "datalore":{
     "type":"CODE",
     "hide_input_from_viewers":false,
     "hide_output_from_viewers":false
    }
   }
  },
  {
   "cell_type":"markdown",
   "source":[
    "### Implement a function that gets the K most nearest neighbour for a given dataset for a given instance"
   ],
   "attachments":{
    
   },
   "metadata":{
    "datalore":{
     "type":"MD",
     "hide_input_from_viewers":false,
     "hide_output_from_viewers":false
    }
   }
  },
  {
   "cell_type":"code",
   "source":[
    "import operator\n",
    "\n",
    "def get_neighbours(training_set, test_instance, k):\n",
    "    distances = []\n",
    "    length = len(test_instance) - 1\n",
    "    for x in range(len(training_set)):\n",
    "        dist = eucladian_distance(test_instance, training_set[x], length)\n",
    "        distances.append((training_set[x], dist))\n",
    "    distances.sort(key=operator.itemgetter(1))\n",
    "    neighbours = []\n",
    "    for x in range(k):\n",
    "        neighbours.append(distances[x][0])\n",
    "    return neighbours"
   ],
   "execution_count":40,
   "outputs":[
    
   ],
   "metadata":{
    "datalore":{
     "type":"CODE",
     "hide_input_from_viewers":false,
     "hide_output_from_viewers":false
    }
   }
  },
  {
   "cell_type":"markdown",
   "source":[
    "#### Test function"
   ],
   "attachments":{
    
   },
   "metadata":{
    "datalore":{
     "type":"MD",
     "hide_input_from_viewers":false,
     "hide_output_from_viewers":false
    }
   }
  },
  {
   "cell_type":"code",
   "source":[
    "trainset = [[2, 2, 2, 'a'], [4, 4, 4, 'b']]\n",
    "testinstance = [5, 5, 5]\n",
    "neigbours = get_neighbours(trainset, testinstance, 1)\n",
    "print(neigbours)"
   ],
   "execution_count":41,
   "outputs":[
    {
     "name":"stdout",
     "text":[
      "[[4, 4, 4, 'b']]\n"
     ],
     "output_type":"stream"
    }
   ],
   "metadata":{
    "datalore":{
     "type":"CODE",
     "hide_input_from_viewers":false,
     "hide_output_from_viewers":false
    }
   }
  },
  {
   "cell_type":"markdown",
   "source":[
    "### Implement a function that gets response from all the nearest neighbors of k (kind of like they vote for where k would belong)"
   ],
   "attachments":{
    
   },
   "metadata":{
    "datalore":{
     "type":"MD",
     "hide_input_from_viewers":false,
     "hide_output_from_viewers":false
    }
   }
  },
  {
   "cell_type":"code",
   "source":[
    "def get_respone(neighbours):\n",
    "    classvotes = {}\n",
    "    for x in range(len(neighbours)):\n",
    "        response = neighbours[x][-1]\n",
    "        if response in classvotes:\n",
    "            classvotes[response] += 1\n",
    "        else:\n",
    "            classvotes[response] = 1\n",
    "    sortedvotes = sorted(classvotes.items(), key=operator.itemgetter(1), reverse=True) \n",
    "    return sortedvotes[0][0]"
   ],
   "execution_count":44,
   "outputs":[
    
   ],
   "metadata":{
    "datalore":{
     "type":"CODE",
     "hide_input_from_viewers":false,
     "hide_output_from_viewers":false
    }
   }
  },
  {
   "cell_type":"markdown",
   "source":[
    "#### Test function"
   ],
   "attachments":{
    
   },
   "metadata":{
    "datalore":{
     "type":"MD",
     "hide_input_from_viewers":false,
     "hide_output_from_viewers":false
    }
   }
  },
  {
   "cell_type":"code",
   "source":[
    "neighbours = [[1,1,1,'a'], [2,2,2,'b'], [3,3,3,'c']]\n",
    "response = get_respone(neighbours)\n",
    "print(response)"
   ],
   "execution_count":45,
   "outputs":[
    {
     "name":"stdout",
     "text":[
      "a\n"
     ],
     "output_type":"stream"
    }
   ],
   "metadata":{
    "datalore":{
     "type":"CODE",
     "hide_input_from_viewers":false,
     "hide_output_from_viewers":false
    }
   }
  },
  {
   "cell_type":"markdown",
   "source":[
    "### Define an accuracy function for the model"
   ],
   "attachments":{
    
   },
   "metadata":{
    "datalore":{
     "type":"MD",
     "hide_input_from_viewers":false,
     "hide_output_from_viewers":false
    }
   }
  },
  {
   "cell_type":"code",
   "source":[
    "def get_accuracy(testset, predictions):\n",
    "    correct = 0\n",
    "    for x in range(len(testset)):\n",
    "        if testset[x][-1] is predictions[x]:\n",
    "            correct += 1\n",
    "    return correct\/float(len(testset)) * 100.0"
   ],
   "execution_count":48,
   "outputs":[
    
   ],
   "metadata":{
    "datalore":{
     "type":"CODE",
     "hide_input_from_viewers":false,
     "hide_output_from_viewers":false
    }
   }
  },
  {
   "cell_type":"code",
   "source":[
    "testset = [[1,1,1,'a'], [2,2,2,'a'], [3,3,3,'c']]\n",
    "predictions = ['a', 'a', 'a']\n",
    "acc = get_accuracy(testset, predictions)\n",
    "acc"
   ],
   "execution_count":54,
   "outputs":[
    {
     "data":{
      "text\/plain":[
       "66.66666666666666"
      ]
     },
     "metadata":{
      
     },
     "output_type":"display_data"
    }
   ],
   "metadata":{
    "datalore":{
     "type":"CODE",
     "hide_input_from_viewers":false,
     "hide_output_from_viewers":false
    }
   }
  },
  {
   "cell_type":"markdown",
   "source":[
    "### Combine all functions to derive a KNN algorithm"
   ],
   "attachments":{
    
   },
   "metadata":{
    "datalore":{
     "type":"MD",
     "hide_input_from_viewers":false,
     "hide_output_from_viewers":false
    }
   }
  },
  {
   "cell_type":"code",
   "source":[
    "def main():\n",
    "    training_Set = []\n",
    "    test_Set = []\n",
    "    split = 0.67\n",
    "    load_datset('iris_data\/iris.csv', split, training_Set, test_Set)\n",
    "    print(f\"Training set: {len(training_Set)}\")\n",
    "    print(f\"Test Set: {len(test_Set)}\")\n",
    "    \n",
    "\n",
    "    # general predictions\n",
    "    prediction = []\n",
    "    k = 3\n",
    "    for x in range(len(test_Set)):\n",
    "        neighbour = get_neighbours(training_Set, test_Set[x], k)\n",
    "        result = get_respone(neighbour)\n",
    "        prediction.append(result)\n",
    "        print(f\"> predicted = {response}, actual = {test_Set[x][-1]}\")\n",
    "    accuracy = get_accuracy(test_Set, prediction)\n",
    "    print(f\"accuracy: {accuracy}%\")\n",
    "\n",
    "main()"
   ],
   "execution_count":57,
   "outputs":[
    {
     "name":"stdout",
     "text":[
      "Training set: 107\n",
      "Test Set: 43\n",
      "> predicted = a, actual = Setosa\n",
      "> predicted = a, actual = Setosa\n",
      "> predicted = a, actual = Setosa\n",
      "> predicted = a, actual = Setosa\n",
      "> predicted = a, actual = Setosa\n",
      "> predicted = a, actual = Setosa\n",
      "> predicted = a, actual = Setosa\n",
      "> predicted = a, actual = Setosa\n",
      "> predicted = a, actual = Setosa\n",
      "> predicted = a, actual = Setosa\n",
      "> predicted = a, actual = Setosa\n",
      "> predicted = a, actual = Setosa\n",
      "> predicted = a, actual = Setosa\n",
      "> predicted = a, actual = Setosa\n",
      "> predicted = a, actual = Versicolor\n",
      "> predicted = a, actual = Versicolor\n",
      "> predicted = a, actual = Versicolor\n",
      "> predicted = a, actual = Versicolor\n",
      "> predicted = a, actual = Versicolor\n",
      "> predicted = a, actual = Versicolor\n",
      "> predicted = a, actual = Versicolor\n",
      "> predicted = a, actual = Versicolor\n",
      "> predicted = a, actual = Versicolor\n",
      "> predicted = a, actual = Versicolor\n",
      "> predicted = a, actual = Versicolor\n",
      "> predicted = a, actual = Versicolor\n",
      "> predicted = a, actual = Versicolor\n",
      "> predicted = a, actual = Versicolor\n",
      "> predicted = a, actual = Versicolor\n",
      "> predicted = a, actual = Virginica\n",
      "> predicted = a, actual = Virginica\n",
      "> predicted = a, actual = Virginica\n",
      "> predicted = a, actual = Virginica\n",
      "> predicted = a, actual = Virginica\n",
      "> predicted = a, actual = Virginica\n",
      "> predicted = a, actual = Virginica\n",
      "> predicted = a, actual = Virginica\n",
      "> predicted = a, actual = Virginica\n",
      "> predicted = a, actual = Virginica\n",
      "> predicted = a, actual = Virginica\n",
      "> predicted = a, actual = Virginica\n",
      "> predicted = a, actual = Virginica\n",
      "> predicted = a, actual = Virginica\n",
      "accuracy: 0.0%\n"
     ],
     "output_type":"stream"
    }
   ],
   "metadata":{
    "datalore":{
     "type":"CODE",
     "hide_input_from_viewers":false,
     "hide_output_from_viewers":false
    }
   }
  },
  {
   "cell_type":"code",
   "source":[
    
   ],
   "execution_count":0,
   "outputs":[
    
   ],
   "metadata":{
    "datalore":{
     "type":"CODE",
     "hide_input_from_viewers":false,
     "hide_output_from_viewers":false
    }
   }
  }
 ],
 "metadata":{
  "datalore":{
   "version":1,
   "computation_mode":"JUPYTER",
   "package_manager":"pip",
   "base_environment":"default",
   "packages":[
    
   ]
  }
 },
 "nbformat":4,
 "nbformat_minor":4
}